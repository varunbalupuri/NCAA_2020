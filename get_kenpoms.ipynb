{
 "cells": [
  {
   "cell_type": "code",
   "execution_count": 1,
   "metadata": {},
   "outputs": [],
   "source": [
    "import pandas as pd\n",
    "import numpy as np"
   ]
  },
  {
   "cell_type": "code",
   "execution_count": 2,
   "metadata": {},
   "outputs": [],
   "source": [
    "teams = pd.read_csv('data/mens/MTeams.csv')"
   ]
  },
  {
   "cell_type": "code",
   "execution_count": 3,
   "metadata": {},
   "outputs": [],
   "source": [
    "teams_spellings = pd.read_csv('data/mens/MTeamSpellings.csv', encoding='latin-1')"
   ]
  },
  {
   "cell_type": "code",
   "execution_count": 13,
   "metadata": {},
   "outputs": [],
   "source": [
    "def teamname_to_teamid(teamname):\n",
    "        \n",
    "    mappings = {'Milwaukee': 'WI Milwaukee',\n",
    "                'WI Green Bay': 'Green Bay',\n",
    "                'Boston University': 'Boston Univ',\n",
    "               'Southern': 'Southern Univ',\n",
    "               'Cal St. Fullerton': 'CS Fullerton',\n",
    "               'Cal St. Northridge': 'CS Northridge',\n",
    "               'Cal St. Bakersfield': 'CS Bakersfield',\n",
    "               'Maryland Eastern Shore': 'MD E Shore',\n",
    "               'Mississippi Valley St.': 'MS Valley St',\n",
    "               'Illinois Chicago': 'IL Chicago',\n",
    "               'Arkansas Pine Bluff': 'Ark Pine Bluff',\n",
    "                'Arkansas Little Rock': 'Ark Little Rock',\n",
    "               'Southeast Missouri St.': 'SE Missouri St',\n",
    "               'Louisiana Monroe': 'ULM',\n",
    "               'Bethune Cookman': 'Bethune-Cookman',\n",
    "               'Texas A&M Corpus Chris': 'TAM C. Christi',\n",
    "                'Tennessee Martin': 'TN Martin',\n",
    "                'UT Rio Grande Valley': 'UTRGV'\n",
    "}\n",
    "    try:\n",
    "        teamname = mappings[teamname]\n",
    "    except KeyError:\n",
    "        pass\n",
    "        \n",
    "    try:\n",
    "        teamid = teams[teams['TeamName'] == teamname].iloc[0]['TeamID']\n",
    "        return teamid\n",
    "    except (KeyError, IndexError):\n",
    "        pass\n",
    "\n",
    "    try:\n",
    "        teamid = teams[teams['TeamName'] == teamname.replace('.','')].iloc[0]['TeamID']\n",
    "        return teamid\n",
    "    except (KeyError, IndexError):\n",
    "        pass\n",
    "\n",
    "    try:\n",
    "        teamid = teams[teams['TeamName'] == teamname.replace(\"'\",\"\")].iloc[0]['TeamID']\n",
    "        return teamid\n",
    "    except (KeyError, IndexError):\n",
    "        pass\n",
    "    \n",
    "    if teamname.endswith('St.'):\n",
    "        try:\n",
    "            teamid = teams[teams['TeamName'] == teamname.rstrip('.')].iloc[0]['TeamID']\n",
    "            return teamid\n",
    "        except (KeyError, IndexError):\n",
    "            pass\n",
    "\n",
    "    try:\n",
    "        teamid = teams_spellings[teams_spellings['TeamNameSpelling'] == teamname.lower()].iloc[0]['TeamID']\n",
    "        return teamid\n",
    "    except (KeyError, IndexError):\n",
    "        pass\n",
    "    \n",
    "    try:\n",
    "        teamid = teams_spellings[teams_spellings['TeamNameSpelling'] == teamname.lower().replace('.','')].iloc[0]['TeamID']\n",
    "        return teamid\n",
    "    except (KeyError, IndexError):\n",
    "        return np.nan"
   ]
  },
  {
   "cell_type": "code",
   "execution_count": 14,
   "metadata": {},
   "outputs": [],
   "source": [
    "def get_and_match_kenpoms(year=2020):\n",
    "    if year == 2020:\n",
    "        url = 'https://kenpom.com/index.php'\n",
    "    else:\n",
    "        url = f'https://kenpom.com/index.php?y={year}'\n",
    "    df = pd.read_html(url)[0]\n",
    "    real_cols = [df.columns[i][-1].replace('.1','') for i in range(len(df.columns))]\n",
    "    df.columns = real_cols\n",
    "    df = df.loc[:,~df.columns.duplicated()]\n",
    "    df = df[~pd.isna(df['Team'])]\n",
    "    df['Team'] = df['Team'].apply(lambda x: ''.join([i for i in x if not i.isdigit()]))\n",
    "    df['Team'] = df['Team'].apply(lambda x: x.rstrip(' '))\n",
    "    df['TeamID'] = df['Team'].apply(lambda x: teamname_to_teamid(x))\n",
    "    df = df[~pd.isna(df['TeamID'])]\n",
    "    return df"
   ]
  },
  {
   "cell_type": "code",
   "execution_count": 15,
   "metadata": {},
   "outputs": [
    {
     "name": "stdout",
     "output_type": "stream",
     "text": [
      "2002 (322, 12)\n",
      "2003 (322, 12)\n",
      "2004 (322, 12)\n",
      "2005 (326, 12)\n",
      "2006 (331, 12)\n",
      "2007 (332, 12)\n",
      "2008 (337, 12)\n",
      "2009 (340, 12)\n",
      "2010 (343, 12)\n",
      "2011 (342, 12)\n",
      "2012 (342, 12)\n",
      "2013 (344, 12)\n",
      "2014 (348, 12)\n",
      "2015 (348, 12)\n",
      "2016 (349, 12)\n",
      "2017 (350, 12)\n",
      "2018 (350, 12)\n",
      "2019 (353, 12)\n",
      "2020 (352, 12)\n"
     ]
    }
   ],
   "source": [
    "all_dfs = {}\n",
    "for year in range(2002, 2021):\n",
    "    df = get_and_match_kenpoms(year=year)\n",
    "    all_dfs[year] = df\n",
    "    print(year, df.shape)\n",
    "    df.to_csv(f'data/mens/kenpoms_{year}.csv')"
   ]
  },
  {
   "cell_type": "code",
   "execution_count": null,
   "metadata": {},
   "outputs": [],
   "source": []
  },
  {
   "cell_type": "code",
   "execution_count": null,
   "metadata": {},
   "outputs": [],
   "source": []
  }
 ],
 "metadata": {
  "kernelspec": {
   "display_name": "Python 3",
   "language": "python",
   "name": "python3"
  },
  "language_info": {
   "codemirror_mode": {
    "name": "ipython",
    "version": 3
   },
   "file_extension": ".py",
   "mimetype": "text/x-python",
   "name": "python",
   "nbconvert_exporter": "python",
   "pygments_lexer": "ipython3",
   "version": "3.6.9"
  }
 },
 "nbformat": 4,
 "nbformat_minor": 2
}
